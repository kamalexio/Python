{
 "cells": [
  {
   "cell_type": "code",
   "execution_count": 1,
   "id": "0686cbc1",
   "metadata": {},
   "outputs": [],
   "source": [
    "def calculator():\n",
    "    # This function performs arithmetic operations\n",
    "    while True:\n",
    "        print(\"\\nEnter 'quit' to end the program\")\n",
    "        num1 = input(\"Enter a number (or a letter to quit): \")\n",
    "        if num1 == 'quit':\n",
    "            break\n",
    "        num2 = input(\"Enter another number: \")\n",
    "        operation = input(\"Enter an operation (+, -, *, /): \")\n",
    "\n",
    "        try:\n",
    "            num1 = float(num1)\n",
    "            num2 = float(num2)\n",
    "            if operation == '+':\n",
    "                print(\"\\nResult: \", num1 + num2)\n",
    "            elif operation == '-':\n",
    "                print(\"\\nResult: \", num1 - num2)\n",
    "            elif operation == '*':\n",
    "                print(\"\\nResult: \", num1 * num2)\n",
    "            elif operation == '/':\n",
    "                print(\"\\nResult: \", num1 / num2)\n",
    "            else:\n",
    "                print(\"\\nInvalid operator! Try again.\")\n",
    "        except ValueError:\n",
    "            print(\"\\nInvalid input! Try again.\")"
   ]
  },
  {
   "cell_type": "code",
   "execution_count": null,
   "id": "bda5eee7",
   "metadata": {},
   "outputs": [],
   "source": [
    "calculator()"
   ]
  }
 ],
 "metadata": {
  "kernelspec": {
   "display_name": "Python 3 (ipykernel)",
   "language": "python",
   "name": "python3"
  },
  "language_info": {
   "codemirror_mode": {
    "name": "ipython",
    "version": 3
   },
   "file_extension": ".py",
   "mimetype": "text/x-python",
   "name": "python",
   "nbconvert_exporter": "python",
   "pygments_lexer": "ipython3",
   "version": "3.11.2"
  }
 },
 "nbformat": 4,
 "nbformat_minor": 5
}
